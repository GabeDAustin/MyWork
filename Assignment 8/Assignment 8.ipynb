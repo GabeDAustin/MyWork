{
 "cells": [
  {
   "cell_type": "markdown",
   "metadata": {},
   "source": [
    "# <center>CSIS 452 - Applied Machine Learning</center>\n",
    "## Assignment 8 - due: 5/7/2019\n",
    "In this assignment you will develop a Convolutional Neural Network (CNN) for handwritten digit recognition using MNIST data set.\n",
    "\n",
    "Enter your name as a comment in the cell below"
   ]
  },
  {
   "cell_type": "code",
   "execution_count": 1,
   "metadata": {},
   "outputs": [],
   "source": [
    "#Gabe Austin"
   ]
  },
  {
   "cell_type": "code",
   "execution_count": 1,
   "metadata": {},
   "outputs": [
    {
     "name": "stderr",
     "output_type": "stream",
     "text": [
      "Using TensorFlow backend.\n"
     ]
    }
   ],
   "source": [
    "import numpy as np\n",
    "import matplotlib\n",
    "import matplotlib.pyplot as plt\n",
    "from sklearn.model_selection import train_test_split\n",
    "from sklearn.metrics import accuracy_score, confusion_matrix, precision_score, recall_score, f1_score\n",
    "\n",
    "import keras\n",
    "from keras import optimizers\n",
    "from keras import losses\n",
    "from keras import metrics\n",
    "from keras.models import Sequential\n",
    "from keras.layers import Dense, Activation\n",
    "from keras import backend as K \n",
    "from keras.layers.normalization import BatchNormalization\n",
    "from keras.layers import Dropout\n",
    "from keras.layers.convolutional import Convolution2D, MaxPooling2D\n",
    "from keras.layers import Flatten"
   ]
  },
  {
   "cell_type": "markdown",
   "metadata": {},
   "source": [
    "The following function can be used to display a random sample of images along with targets and predicted class."
   ]
  },
  {
   "cell_type": "code",
   "execution_count": 2,
   "metadata": {},
   "outputs": [],
   "source": [
    "def display_a_random_sample_of_images(grid_size, images, targets, predictions=np.array([]), title=\"images\"):\n",
    "    \"\"\" \n",
    "    Displayes a random sample of images with the corresponding targets\n",
    "    \n",
    "    \n",
    "    Argument:\n",
    "        grid_size -- size of subplot will be grid_sizeXgrid_size.\n",
    "        images -- an array of images 32x32  (num_images x 8 x 8)\n",
    "        targets -- an array of class values (num_images x 1) containing class values \n",
    "             between 0 and 9  \n",
    "        predictions -- an array of predicted class values (nume_images X 1) containig predicted\n",
    "             class values between 0 and 9\n",
    "    Returns:\n",
    "        None\n",
    "    \"\"\"\n",
    "\n",
    "    class_names = ['0','1','2','3','4','5','6','7','8','9']\n",
    "    #reshape the images for display\n",
    "    \n",
    "    fig, axes1 = plt.subplots(grid_size,grid_size,figsize=(3,3))\n",
    "    fig.suptitle(title, fontsize=\"x-small\")\n",
    "    plt.subplots_adjust(left=None, bottom=None, right=None, top=None, wspace=0.8, hspace=0.8)\n",
    "    \n",
    "    for j in range(grid_size):\n",
    "        for k in range(grid_size):\n",
    "            i = np.random.choice(range(len(images)))\n",
    "            axes1[j][k].set_axis_off()\n",
    "            if predictions.size > 0:\n",
    "                axes1[j][k].set_title(class_names[targets[i]]+\",\"+class_names[predictions[i]])\n",
    "            else:\n",
    "                axes1[j][k].set_title(class_names[targets[i]])\n",
    "            axes1[j][k].title.set_fontsize(8)\n",
    "            axes1[j][k].imshow(images[i, :,:], cmap = matplotlib.cm.binary, interpolation=\"nearest\")"
   ]
  },
  {
   "cell_type": "markdown",
   "metadata": {},
   "source": [
    "Let's first load the data set from keras datasets.  You will need to look at Keras datasets documentation, learn about the MNIST data set and develop the code below."
   ]
  },
  {
   "cell_type": "code",
   "execution_count": 3,
   "metadata": {},
   "outputs": [],
   "source": [
    "from keras.datasets import mnist\n",
    "def load_digits():\n",
    "    \"\"\"\n",
    "    Load and returns images and targets from the sklearn digits dataset.  \n",
    "    \n",
    "    Arguments: None\n",
    "    \n",
    "    #Returns: \n",
    "        images -- an array of digit images (num_imagesX8x8) \n",
    "               -- images are in normlaized form\n",
    "        target_classes -- an array of class values (num_imagesX1) containing \n",
    "        class values between 0 and 9\n",
    "\n",
    "    \"\"\"    \n",
    "\n",
    "    (X_train, y_train), (X_test, y_test) = mnist.load_data()\n",
    "    \n",
    "    return X_train, y_train, X_test, y_test"
   ]
  },
  {
   "cell_type": "markdown",
   "metadata": {},
   "source": [
    "Now, let's load the images and display a random sample of 9 images in a 3-by-3 grid along with their corresponding target class using the functions developed above."
   ]
  },
  {
   "cell_type": "code",
   "execution_count": 4,
   "metadata": {},
   "outputs": [
    {
     "name": "stdout",
     "output_type": "stream",
     "text": [
      "(60000, 28, 28, 1) (60000, 1) (10000, 28, 28, 1) (10000, 1)\n"
     ]
    },
    {
     "data": {
      "image/png": "[encoded data removed]",
      "text/plain": [
       "<Figure size 216x216 with 9 Axes>"
      ]
     },
     "metadata": {
      "needs_background": "light"
     },
     "output_type": "display_data"
    }
   ],
   "source": [
    "X_train, y_train, X_test, y_test = load_digits()\n",
    "X_train_reshape = X_train.reshape(-1,28,28,1)\n",
    "X_test_reshape = X_test.reshape(-1,28,28,1)\n",
    "y_train_reshape = y_train.reshape(-1,1)\n",
    "y_test_reshape = y_test.reshape(-1,1)\n",
    "print(X_train_reshape.shape, y_train_reshape.shape, X_test_reshape.shape, y_test_reshape.shape)\n",
    "np.random.seed(2)\n",
    "display_a_random_sample_of_images(3, X_train, y_train, title=\"images\")\n",
    "plt.show()"
   ]
  },
  {
   "cell_type": "markdown",
   "metadata": {},
   "source": [
    "## Expected output:\n",
    "<p>Your plots should be similar to the ones below, but they won't be exact match</P>\n",
    "<p><img src=\"Figure1.png\" width=\"40%\" height=\"40%\" align=\"left\"> <br></p>\n"
   ]
  },
  {
   "cell_type": "markdown",
   "metadata": {},
   "source": [
    "No need to reshape the images, as we will be useing 2-D Convilutional Layers.  We will however still need to use one-hot encoding of the targets.  So, let's take care of that first."
   ]
  },
  {
   "cell_type": "code",
   "execution_count": 5,
   "metadata": {},
   "outputs": [
    {
     "name": "stdout",
     "output_type": "stream",
     "text": [
      "(60000, 10)\n",
      "(10000, 10)\n"
     ]
    },
    {
     "name": "stderr",
     "output_type": "stream",
     "text": [
      "C:\\Users\\Gabe\\Anaconda3\\lib\\site-packages\\sklearn\\preprocessing\\_encoders.py:368: FutureWarning: The handling of integer data will change in version 0.22. Currently, the categories are determined based on the range [0, max(values)], while in the future they will be determined based on the unique values.\n",
      "If you want the future behaviour and silence this warning, you can specify \"categories='auto'\".\n",
      "In case you used a LabelEncoder before this OneHotEncoder to convert the categories to integers, then you can now use the OneHotEncoder directly.\n",
      "  warnings.warn(msg, FutureWarning)\n",
      "C:\\Users\\Gabe\\Anaconda3\\lib\\site-packages\\sklearn\\preprocessing\\_encoders.py:368: FutureWarning: The handling of integer data will change in version 0.22. Currently, the categories are determined based on the range [0, max(values)], while in the future they will be determined based on the unique values.\n",
      "If you want the future behaviour and silence this warning, you can specify \"categories='auto'\".\n",
      "In case you used a LabelEncoder before this OneHotEncoder to convert the categories to integers, then you can now use the OneHotEncoder directly.\n",
      "  warnings.warn(msg, FutureWarning)\n"
     ]
    }
   ],
   "source": [
    "from sklearn.preprocessing import OneHotEncoder\n",
    "cat_encoder = OneHotEncoder()\n",
    "y_train_1hot = cat_encoder.fit_transform(y_train_reshape)\n",
    "y_test_1hot = cat_encoder.fit_transform(y_test_reshape)\n",
    "print(y_train_1hot.shape)\n",
    "print(y_test_1hot.shape)"
   ]
  },
  {
   "cell_type": "markdown",
   "metadata": {},
   "source": [
    "## Expected output:\n",
    "(60000, 10)\n",
    "(10000, 10)"
   ]
  },
  {
   "cell_type": "markdown",
   "metadata": {},
   "source": [
    "Now, let's build the model and train the it.  Use validation_split of 0.1 to allow for a 10% validation set, 5 epochs for training and set training to be verbos.  Keep in mind that this is a multi-class problem, so your loss should be <b>categorical_crossentropy</b> and for metrics use <b>accuracy</b>.  You will also need to bacth normalize before and use dropout after each maxpooly layer, after the each leyer of the fully connected layers.  The CNN structore should be as shown below\n",
    "\n",
    "<p><img src=\"Figure0.png\" width=\"600%\" height=\"60%\" align=\"left\"> <br></p>\n",
    "\n",
    "<p></p>"
   ]
  },
  {
   "cell_type": "code",
   "execution_count": 7,
   "metadata": {},
   "outputs": [
    {
     "name": "stdout",
     "output_type": "stream",
     "text": [
      "(28, 28, 1)\n",
      "Train on 54000 samples, validate on 6000 samples\n",
      "Epoch 1/5\n",
      "54000/54000 [==============================] - 182s 3ms/step - loss: 0.4477 - acc: 0.8787 - val_loss: 0.1134 - val_acc: 0.9782\n",
      "Epoch 2/5\n",
      "54000/54000 [==============================] - 178s 3ms/step - loss: 0.2734 - acc: 0.9199 - val_loss: 0.0432 - val_acc: 0.9925\n",
      "Epoch 3/5\n",
      "54000/54000 [==============================] - 179s 3ms/step - loss: 0.2186 - acc: 0.9336 - val_loss: 0.0390 - val_acc: 0.9907\n",
      "Epoch 4/5\n",
      "54000/54000 [==============================] - 10975s 203ms/step - loss: 0.1934 - acc: 0.9368 - val_loss: 0.0293 - val_acc: 0.9937\n",
      "Epoch 5/5\n",
      "24480/54000 [============>.................] - ETA: 50:54:09 - loss: 0.1841 - acc: 0.9400"
     ]
    },
    {
     "ename": "KeyboardInterrupt",
     "evalue": "",
     "output_type": "error",
     "traceback": [
      "\u001b[1;31m---------------------------------------------------------------------------\u001b[0m",
      "\u001b[1;31mKeyboardInterrupt\u001b[0m                         Traceback (most recent call last)",
      "\u001b[1;32m<ipython-input-7-ddb7431114c0>\u001b[0m in \u001b[0;36m<module>\u001b[1;34m\u001b[0m\n\u001b[0;32m    100\u001b[0m     metrics=['accuracy'], optimizer='adadelta')\n\u001b[0;32m    101\u001b[0m \u001b[1;33m\u001b[0m\u001b[0m\n\u001b[1;32m--> 102\u001b[1;33m \u001b[0mhistory\u001b[0m \u001b[1;33m=\u001b[0m \u001b[0mmodel\u001b[0m\u001b[1;33m.\u001b[0m\u001b[0mfit\u001b[0m\u001b[1;33m(\u001b[0m\u001b[0mX_train_reshape\u001b[0m\u001b[1;33m,\u001b[0m \u001b[0my_train_1hot\u001b[0m\u001b[1;33m,\u001b[0m \u001b[0mepochs\u001b[0m \u001b[1;33m=\u001b[0m \u001b[0mnum_epochs\u001b[0m\u001b[1;33m,\u001b[0m \u001b[0mvalidation_split\u001b[0m \u001b[1;33m=\u001b[0m \u001b[1;36m0.1\u001b[0m\u001b[1;33m,\u001b[0m \u001b[0mverbose\u001b[0m\u001b[1;33m=\u001b[0m\u001b[1;36m1\u001b[0m\u001b[1;33m)\u001b[0m\u001b[1;33m\u001b[0m\u001b[1;33m\u001b[0m\u001b[0m\n\u001b[0m",
      "\u001b[1;32m~\\Anaconda3\\lib\\site-packages\\keras\\engine\\training.py\u001b[0m in \u001b[0;36mfit\u001b[1;34m(self, x, y, batch_size, epochs, verbose, callbacks, validation_split, validation_data, shuffle, class_weight, sample_weight, initial_epoch, steps_per_epoch, validation_steps, **kwargs)\u001b[0m\n\u001b[0;32m   1037\u001b[0m                                         \u001b[0minitial_epoch\u001b[0m\u001b[1;33m=\u001b[0m\u001b[0minitial_epoch\u001b[0m\u001b[1;33m,\u001b[0m\u001b[1;33m\u001b[0m\u001b[1;33m\u001b[0m\u001b[0m\n\u001b[0;32m   1038\u001b[0m                                         \u001b[0msteps_per_epoch\u001b[0m\u001b[1;33m=\u001b[0m\u001b[0msteps_per_epoch\u001b[0m\u001b[1;33m,\u001b[0m\u001b[1;33m\u001b[0m\u001b[1;33m\u001b[0m\u001b[0m\n\u001b[1;32m-> 1039\u001b[1;33m                                         validation_steps=validation_steps)\n\u001b[0m\u001b[0;32m   1040\u001b[0m \u001b[1;33m\u001b[0m\u001b[0m\n\u001b[0;32m   1041\u001b[0m     def evaluate(self, x=None, y=None,\n",
      "\u001b[1;32m~\\Anaconda3\\lib\\site-packages\\keras\\engine\\training_arrays.py\u001b[0m in \u001b[0;36mfit_loop\u001b[1;34m(model, f, ins, out_labels, batch_size, epochs, verbose, callbacks, val_f, val_ins, shuffle, callback_metrics, initial_epoch, steps_per_epoch, validation_steps)\u001b[0m\n\u001b[0;32m    197\u001b[0m                     \u001b[0mins_batch\u001b[0m\u001b[1;33m[\u001b[0m\u001b[0mi\u001b[0m\u001b[1;33m]\u001b[0m \u001b[1;33m=\u001b[0m \u001b[0mins_batch\u001b[0m\u001b[1;33m[\u001b[0m\u001b[0mi\u001b[0m\u001b[1;33m]\u001b[0m\u001b[1;33m.\u001b[0m\u001b[0mtoarray\u001b[0m\u001b[1;33m(\u001b[0m\u001b[1;33m)\u001b[0m\u001b[1;33m\u001b[0m\u001b[1;33m\u001b[0m\u001b[0m\n\u001b[0;32m    198\u001b[0m \u001b[1;33m\u001b[0m\u001b[0m\n\u001b[1;32m--> 199\u001b[1;33m                 \u001b[0mouts\u001b[0m \u001b[1;33m=\u001b[0m \u001b[0mf\u001b[0m\u001b[1;33m(\u001b[0m\u001b[0mins_batch\u001b[0m\u001b[1;33m)\u001b[0m\u001b[1;33m\u001b[0m\u001b[1;33m\u001b[0m\u001b[0m\n\u001b[0m\u001b[0;32m    200\u001b[0m                 \u001b[0mouts\u001b[0m \u001b[1;33m=\u001b[0m \u001b[0mto_list\u001b[0m\u001b[1;33m(\u001b[0m\u001b[0mouts\u001b[0m\u001b[1;33m)\u001b[0m\u001b[1;33m\u001b[0m\u001b[1;33m\u001b[0m\u001b[0m\n\u001b[0;32m    201\u001b[0m                 \u001b[1;32mfor\u001b[0m \u001b[0ml\u001b[0m\u001b[1;33m,\u001b[0m \u001b[0mo\u001b[0m \u001b[1;32min\u001b[0m \u001b[0mzip\u001b[0m\u001b[1;33m(\u001b[0m\u001b[0mout_labels\u001b[0m\u001b[1;33m,\u001b[0m \u001b[0mouts\u001b[0m\u001b[1;33m)\u001b[0m\u001b[1;33m:\u001b[0m\u001b[1;33m\u001b[0m\u001b[1;33m\u001b[0m\u001b[0m\n",
      "\u001b[1;32m~\\Anaconda3\\lib\\site-packages\\keras\\backend\\tensorflow_backend.py\u001b[0m in \u001b[0;36m__call__\u001b[1;34m(self, inputs)\u001b[0m\n\u001b[0;32m   2713\u001b[0m                 \u001b[1;32mreturn\u001b[0m \u001b[0mself\u001b[0m\u001b[1;33m.\u001b[0m\u001b[0m_legacy_call\u001b[0m\u001b[1;33m(\u001b[0m\u001b[0minputs\u001b[0m\u001b[1;33m)\u001b[0m\u001b[1;33m\u001b[0m\u001b[1;33m\u001b[0m\u001b[0m\n\u001b[0;32m   2714\u001b[0m \u001b[1;33m\u001b[0m\u001b[0m\n\u001b[1;32m-> 2715\u001b[1;33m             \u001b[1;32mreturn\u001b[0m \u001b[0mself\u001b[0m\u001b[1;33m.\u001b[0m\u001b[0m_call\u001b[0m\u001b[1;33m(\u001b[0m\u001b[0minputs\u001b[0m\u001b[1;33m)\u001b[0m\u001b[1;33m\u001b[0m\u001b[1;33m\u001b[0m\u001b[0m\n\u001b[0m\u001b[0;32m   2716\u001b[0m         \u001b[1;32melse\u001b[0m\u001b[1;33m:\u001b[0m\u001b[1;33m\u001b[0m\u001b[1;33m\u001b[0m\u001b[0m\n\u001b[0;32m   2717\u001b[0m             \u001b[1;32mif\u001b[0m \u001b[0mpy_any\u001b[0m\u001b[1;33m(\u001b[0m\u001b[0mis_tensor\u001b[0m\u001b[1;33m(\u001b[0m\u001b[0mx\u001b[0m\u001b[1;33m)\u001b[0m \u001b[1;32mfor\u001b[0m \u001b[0mx\u001b[0m \u001b[1;32min\u001b[0m \u001b[0minputs\u001b[0m\u001b[1;33m)\u001b[0m\u001b[1;33m:\u001b[0m\u001b[1;33m\u001b[0m\u001b[1;33m\u001b[0m\u001b[0m\n",
      "\u001b[1;32m~\\Anaconda3\\lib\\site-packages\\keras\\backend\\tensorflow_backend.py\u001b[0m in \u001b[0;36m_call\u001b[1;34m(self, inputs)\u001b[0m\n\u001b[0;32m   2673\u001b[0m             \u001b[0mfetched\u001b[0m \u001b[1;33m=\u001b[0m \u001b[0mself\u001b[0m\u001b[1;33m.\u001b[0m\u001b[0m_callable_fn\u001b[0m\u001b[1;33m(\u001b[0m\u001b[1;33m*\u001b[0m\u001b[0marray_vals\u001b[0m\u001b[1;33m,\u001b[0m \u001b[0mrun_metadata\u001b[0m\u001b[1;33m=\u001b[0m\u001b[0mself\u001b[0m\u001b[1;33m.\u001b[0m\u001b[0mrun_metadata\u001b[0m\u001b[1;33m)\u001b[0m\u001b[1;33m\u001b[0m\u001b[1;33m\u001b[0m\u001b[0m\n\u001b[0;32m   2674\u001b[0m         \u001b[1;32melse\u001b[0m\u001b[1;33m:\u001b[0m\u001b[1;33m\u001b[0m\u001b[1;33m\u001b[0m\u001b[0m\n\u001b[1;32m-> 2675\u001b[1;33m             \u001b[0mfetched\u001b[0m \u001b[1;33m=\u001b[0m \u001b[0mself\u001b[0m\u001b[1;33m.\u001b[0m\u001b[0m_callable_fn\u001b[0m\u001b[1;33m(\u001b[0m\u001b[1;33m*\u001b[0m\u001b[0marray_vals\u001b[0m\u001b[1;33m)\u001b[0m\u001b[1;33m\u001b[0m\u001b[1;33m\u001b[0m\u001b[0m\n\u001b[0m\u001b[0;32m   2676\u001b[0m         \u001b[1;32mreturn\u001b[0m \u001b[0mfetched\u001b[0m\u001b[1;33m[\u001b[0m\u001b[1;33m:\u001b[0m\u001b[0mlen\u001b[0m\u001b[1;33m(\u001b[0m\u001b[0mself\u001b[0m\u001b[1;33m.\u001b[0m\u001b[0moutputs\u001b[0m\u001b[1;33m)\u001b[0m\u001b[1;33m]\u001b[0m\u001b[1;33m\u001b[0m\u001b[1;33m\u001b[0m\u001b[0m\n\u001b[0;32m   2677\u001b[0m \u001b[1;33m\u001b[0m\u001b[0m\n",
      "\u001b[1;32m~\\Anaconda3\\lib\\site-packages\\tensorflow\\python\\client\\session.py\u001b[0m in \u001b[0;36m__call__\u001b[1;34m(self, *args, **kwargs)\u001b[0m\n\u001b[0;32m   1437\u001b[0m           ret = tf_session.TF_SessionRunCallable(\n\u001b[0;32m   1438\u001b[0m               \u001b[0mself\u001b[0m\u001b[1;33m.\u001b[0m\u001b[0m_session\u001b[0m\u001b[1;33m.\u001b[0m\u001b[0m_session\u001b[0m\u001b[1;33m,\u001b[0m \u001b[0mself\u001b[0m\u001b[1;33m.\u001b[0m\u001b[0m_handle\u001b[0m\u001b[1;33m,\u001b[0m \u001b[0margs\u001b[0m\u001b[1;33m,\u001b[0m \u001b[0mstatus\u001b[0m\u001b[1;33m,\u001b[0m\u001b[1;33m\u001b[0m\u001b[1;33m\u001b[0m\u001b[0m\n\u001b[1;32m-> 1439\u001b[1;33m               run_metadata_ptr)\n\u001b[0m\u001b[0;32m   1440\u001b[0m         \u001b[1;32mif\u001b[0m \u001b[0mrun_metadata\u001b[0m\u001b[1;33m:\u001b[0m\u001b[1;33m\u001b[0m\u001b[1;33m\u001b[0m\u001b[0m\n\u001b[0;32m   1441\u001b[0m           \u001b[0mproto_data\u001b[0m \u001b[1;33m=\u001b[0m \u001b[0mtf_session\u001b[0m\u001b[1;33m.\u001b[0m\u001b[0mTF_GetBuffer\u001b[0m\u001b[1;33m(\u001b[0m\u001b[0mrun_metadata_ptr\u001b[0m\u001b[1;33m)\u001b[0m\u001b[1;33m\u001b[0m\u001b[1;33m\u001b[0m\u001b[0m\n",
      "\u001b[1;31mKeyboardInterrupt\u001b[0m: "
     ]
    }
   ],
   "source": [
    "from keras.layers.convolutional import Convolution2D, MaxPooling2D\n",
    "from keras.layers import Flatten\n",
    "\n",
    "K.clear_session()\n",
    "\n",
    "num_classes = 10\n",
    "dropout_rate = 0.1\n",
    "num_epochs = 5\n",
    "\n",
    "kernel_size_conv = (3,3)\n",
    "strides_conv = 1\n",
    "padding_conv = 'same'\n",
    "\n",
    "kernel_size_max_pool = (2,2)\n",
    "stride_max_pool = 2\n",
    "\n",
    "input_layer_shape = X_train_reshape.shape[1:]\n",
    "print(input_layer_shape)\n",
    "\n",
    "n_filters_conv_1 = 16\n",
    "n_filters_conv_2 = 16\n",
    "n_filters_conv_3 = 32\n",
    "n_filters_conv_4 = 32\n",
    "n_filters_conv_5 = 64\n",
    "n_filters_conv_6 = 64\n",
    "\n",
    "n_hidden_1_fully_connected = 516\n",
    "n_hidden_2_fully_connected = 128\n",
    "\n",
    "n_outputs =  10\n",
    "\n",
    "model = Sequential() \n",
    "model.add(Convolution2D(filters=n_filters_conv_1, \n",
    "                        kernel_size = kernel_size_conv,\n",
    "                        strides= strides_conv, \n",
    "                        padding = padding_conv, \n",
    "                        input_shape=input_layer_shape))\n",
    "model.add(Activation('relu'))\n",
    "\n",
    "model.add(Convolution2D(filters=n_filters_conv_2, \n",
    "                        kernel_size = kernel_size_conv,\n",
    "                        strides= strides_conv, \n",
    "                        padding = padding_conv\n",
    "                       ))\n",
    "model.add(Activation('relu'))\n",
    "\n",
    "model.add(BatchNormalization())\n",
    "model.add(MaxPooling2D(pool_size=kernel_size_max_pool, strides=stride_max_pool)) \n",
    "model.add(Dropout(dropout_rate))  \n",
    "\n",
    "model.add(Convolution2D(filters=n_filters_conv_3, \n",
    "                        kernel_size = kernel_size_conv,\n",
    "                        strides= strides_conv, \n",
    "                        padding = padding_conv\n",
    "                        ))\n",
    "model.add(Activation('relu'))\n",
    "\n",
    "model.add(Convolution2D(filters=n_filters_conv_4, \n",
    "                        kernel_size = kernel_size_conv,\n",
    "                        strides= strides_conv, \n",
    "                        padding = padding_conv \n",
    "                        ))\n",
    "model.add(Activation('relu'))\n",
    "\n",
    "model.add(BatchNormalization())\n",
    "model.add(MaxPooling2D(pool_size=kernel_size_max_pool, strides=stride_max_pool))\n",
    "model.add(Dropout(dropout_rate)) \n",
    "\n",
    "model.add(Convolution2D(filters=n_filters_conv_5, \n",
    "                        kernel_size = kernel_size_conv,\n",
    "                        strides= strides_conv, \n",
    "                        padding = padding_conv \n",
    "                        ))\n",
    "model.add(Activation('relu'))\n",
    "\n",
    "model.add(Convolution2D(filters=n_filters_conv_6, \n",
    "                        kernel_size = kernel_size_conv,\n",
    "                        strides= strides_conv, \n",
    "                        padding = padding_conv \n",
    "                        ))\n",
    "model.add(Activation('relu'))\n",
    "                \n",
    "model.add(Flatten())\n",
    "  \n",
    "model.add(Dense(n_hidden_1_fully_connected))\n",
    "model.add(BatchNormalization())\n",
    "model.add(Dropout(dropout_rate))\n",
    "model.add(Activation('relu'))\n",
    "model.add(Dense(n_hidden_2_fully_connected))\n",
    "model.add(BatchNormalization())\n",
    "model.add(Dropout(dropout_rate))\n",
    "model.add(Activation('relu'))\n",
    "model.add(Dense(n_outputs))\n",
    "model.add(BatchNormalization())\n",
    "model.add(Dropout(dropout_rate))\n",
    "model.add(Activation('softmax'))\n",
    "      \n",
    " \n",
    "model.compile(loss='categorical_crossentropy', \n",
    "    metrics=['accuracy'], optimizer='adadelta')\n",
    " \n",
    "history = model.fit(X_train_reshape, y_train_1hot, epochs = num_epochs, validation_split = 0.1, verbose=1)"
   ]
  },
  {
   "cell_type": "markdown",
   "metadata": {},
   "source": [
    "Let's plot training curves and see how the model is doing on training and validation."
   ]
  },
  {
   "cell_type": "code",
   "execution_count": 25,
   "metadata": {},
   "outputs": [
    {
     "data": {
      "image/png": "[encoded data removed]",
      "text/plain": [
       "<Figure size 432x288 with 1 Axes>"
      ]
     },
     "metadata": {
      "needs_background": "light"
     },
     "output_type": "display_data"
    },
    {
     "data": {
      "image/png": "[encoded data removed]",
      "text/plain": [
       "<Figure size 432x288 with 1 Axes>"
      ]
     },
     "metadata": {
      "needs_background": "light"
     },
     "output_type": "display_data"
    },
    {
     "data": {
      "image/png": "[encoded data removed]",
      "text/plain": [
       "<Figure size 432x288 with 1 Axes>"
      ]
     },
     "metadata": {
      "needs_background": "light"
     },
     "output_type": "display_data"
    },
    {
     "data": {
      "image/png": "[encoded data removed]",
      "text/plain": [
       "<Figure size 432x288 with 1 Axes>"
      ]
     },
     "metadata": {
      "needs_background": "light"
     },
     "output_type": "display_data"
    }
   ],
   "source": [
    "training_fig = plt.figure()\n",
    "training_ax = training_fig.add_subplot(111)\n",
    "training_ax.plot(history.history['loss'])\n",
    "training_ax.plot(history.history['acc'])\n",
    "training_ax.set_title('Training loss and accuracy')\n",
    "training_ax.set_xlabel('epoch')\n",
    "training_ax.legend(['loss', 'accuracy'], loc='upper right')\n",
    "\n",
    "validation_fig = plt.figure()\n",
    "validation_ax = validation_fig.add_subplot(111)\n",
    "validation_ax.plot(history.history['val_loss'])\n",
    "validation_ax.plot(history.history['val_acc'])\n",
    "validation_ax.set_title('Validation loss and accuracy')\n",
    "validation_ax.set_xlabel('epoch')\n",
    "validation_ax.legend(['val_loss', 'val_accuracy'], loc='upper right')\n",
    "\n",
    "tarin_val_loss_fig = plt.figure()\n",
    "tarin_val_loss_ax = tarin_val_loss_fig.add_subplot(111)\n",
    "tarin_val_loss_ax.plot(history.history['loss'])\n",
    "tarin_val_loss_ax.plot(history.history['val_loss'])\n",
    "tarin_val_loss_ax.set_title('Training and Validation loss')\n",
    "tarin_val_loss_ax.set_xlabel('epoch')\n",
    "tarin_val_loss_ax.legend(['loss', 'val_loss'], loc='upper right')\n",
    "\n",
    "tarin_val_loss_fig = plt.figure()\n",
    "tarin_val_loss_ax = tarin_val_loss_fig.add_subplot(111)\n",
    "tarin_val_loss_ax.plot(history.history['acc'])\n",
    "tarin_val_loss_ax.plot(history.history['val_acc'])\n",
    "tarin_val_loss_ax.set_title('Training and Validation accuracy')\n",
    "tarin_val_loss_ax.set_xlabel('epoch')\n",
    "tarin_val_loss_ax.legend(['accuracy', 'val_accuracy'], loc='upper right')\n",
    "\n",
    "plt.show()"
   ]
  },
  {
   "cell_type": "markdown",
   "metadata": {},
   "source": [
    "## Expected output:\n",
    "<p>Your plots should be similar to the ones below, but they won't be exact match</P>\n",
    "<p><img src=\"Figure2.png\" width=\"40%\" height=\"40%\" align=\"left\"> <br></p>\n"
   ]
  },
  {
   "cell_type": "markdown",
   "metadata": {},
   "source": [
    "Now let's evaluate the model on the training and test images.  First, we will need to get the h values.  Keep in mind that the we need to inverse transform the 1hot encoded labels to the original labels."
   ]
  },
  {
   "cell_type": "code",
   "execution_count": 26,
   "metadata": {},
   "outputs": [],
   "source": [
    "p_train_1hot = model.predict(X_train_reshape)\n",
    "h_train_1hot = np.array([elm for elm in p_train_1hot>0.5], dtype=int) #Convert probabilities to class labels)\n",
    "h_train =  np.squeeze(cat_encoder.inverse_transform(h_train_1hot)) #Retrive original class labels)\n",
    "\n",
    "p_train_1hot = model.predict(X_test_reshape)\n",
    "h_test_1hot = np.array([elm for elm in p_train_1hot>0.5], dtype=int) \n",
    "h_test =  np.squeeze(cat_encoder.inverse_transform(h_test_1hot)) "
   ]
  },
  {
   "cell_type": "markdown",
   "metadata": {},
   "source": [
    "Next, we will measure the model performance on the training set and test set using Confusion Matrix, Average Accuracy, Average Precision, Average Recall and Average F1-Score. "
   ]
  },
  {
   "cell_type": "code",
   "execution_count": 27,
   "metadata": {},
   "outputs": [
    {
     "name": "stdout",
     "output_type": "stream",
     "text": [
      "Training Performance\n",
      "Average Train Confusion Matrix:\n",
      " [[5920    1    0    0    0    0    2    0    0    0]\n",
      " [   5 6722    2    0    0    0    0   13    0    0]\n",
      " [  17   16 5913    0    1    0    0    9    0    2]\n",
      " [  11    0    1 6106    0    2    0    3    2    6]\n",
      " [   6    8    0    0 5801    0    2    3    0   22]\n",
      " [  35    2    0   11    0 5336   23    1    4    9]\n",
      " [  13    8    0    0    3    0 5893    0    1    0]\n",
      " [  10    5    7    0    5    0    0 6236    0    2]\n",
      " [  93   17    4    5    6    1   15    4 5687   19]\n",
      " [  25    2    2    1   25    2    0    9    3 5880]]\n",
      "Average Train Accuracy: 99.16%\n",
      "Average Train Precision 99.17%\n",
      "Average Train Recall: 99.16%\n",
      "Average Train F1: 99.16%\n",
      "Training Performance\n",
      "Average Test Confusion Matrix:\n",
      " [[ 977    0    0    0    0    0    2    1    0    0]\n",
      " [   0 1134    0    0    0    0    0    1    0    0]\n",
      " [   2    0 1027    0    0    0    0    3    0    0]\n",
      " [   1    0    0 1008    0    0    0    0    1    0]\n",
      " [   3    1    0    0  968    0    2    0    0    8]\n",
      " [   7    0    0    8    0  874    2    0    0    1]\n",
      " [   6    5    0    0    0    0  947    0    0    0]\n",
      " [   0    2    0    0    0    0    0 1025    0    1]\n",
      " [  21    0    0    2    0    0    0    1  943    7]\n",
      " [   4    0    0    0    5    0    0    1    0  999]]\n",
      "Average Test Accuracy: 99.02%\n",
      "Average Test Precision 99.04%\n",
      "Average Test Recall 99.02%\n",
      "Average Test F1: 99.02%\n"
     ]
    }
   ],
   "source": [
    "cf_train = confusion_matrix(y_train, h_train)\n",
    "ca_train = np.mean(accuracy_score(np.squeeze(y_train), np.squeeze(h_train)))\n",
    "ps_train = np.mean(precision_score(y_train, h_train, average='weighted')) \n",
    "rs_train = np.mean(recall_score(y_train, h_train, average='weighted'))\n",
    "f1_train = np.mean(f1_score(y_train, h_train, average='weighted'))\n",
    "print(\"Training Performance\")\n",
    "print(\"Average Train Confusion Matrix:\\n\", cf_train)\n",
    "print(\"Average Train Accuracy: {0:0.2%}\".format(ca_train))\n",
    "print(\"Average Train Precision {0:0.2%}\".format(ps_train))\n",
    "print(\"Average Train Recall: {0:0.2%}\".format(rs_train))\n",
    "print(\"Average Train F1: {0:0.2%}\".format(f1_train))\n",
    "\n",
    "cf_test = confusion_matrix(y_test, h_test)\n",
    "ca_test = accuracy_score(np.squeeze(y_test), np.squeeze(h_test))\n",
    "ps_test = precision_score(y_test, h_test, average='weighted')\n",
    "rs_test = recall_score(y_test, h_test, average='weighted')\n",
    "f1_test = f1_score(y_test, h_test, average='weighted')\n",
    "print(\"Training Performance\")\n",
    "print(\"Average Test Confusion Matrix:\\n\", cf_test)\n",
    "print(\"Average Test Accuracy: {0:0.2%}\".format(ca_test))\n",
    "print(\"Average Test Precision {0:0.2%}\".format(ps_test))\n",
    "print(\"Average Test Recall {0:0.2%}\".format(rs_test))\n",
    "print(\"Average Test F1: {0:0.2%}\".format(f1_test))"
   ]
  },
  {
   "cell_type": "markdown",
   "metadata": {},
   "source": [
    "## Expected output:\n",
    "<p> You performance should be close to the following, it won't be exact.</p>\n",
    "<p><img src=\"Figure3.png\" width=\"40%\" height=\"40%\" align=\"left\"> <br></p>\n"
   ]
  },
  {
   "cell_type": "markdown",
   "metadata": {},
   "source": [
    "Finally, let's examine a set of images and compare their predicted and actual labels."
   ]
  },
  {
   "cell_type": "code",
   "execution_count": 28,
   "metadata": {},
   "outputs": [
    {
     "data": {
      "image/png": "[encoded data removed]",
      "text/plain": [
       "<Figure size 216x216 with 25 Axes>"
      ]
     },
     "metadata": {
      "needs_background": "light"
     },
     "output_type": "display_data"
    }
   ],
   "source": [
    "np.random.seed(5)\n",
    "display_a_random_sample_of_images(grid_size = 5, images= X_test.reshape(X_test.shape[0], X_test.shape[1], X_test.shape[1]), targets=np.squeeze(y_test).astype(int), predictions = np.squeeze(h_test).astype(int) )"
   ]
  },
  {
   "cell_type": "markdown",
   "metadata": {},
   "source": [
    "## Expected output:\n",
    "<p> You output should be close to the following, but it won't be exact.</p>\n",
    "<p><img src=\"Figure4.png\" width=\"20%\" height=\"20%\" align=\"left\"> <br></p>"
   ]
  },
  {
   "cell_type": "code",
   "execution_count": null,
   "metadata": {},
   "outputs": [],
   "source": []
  }
 ],
 "metadata": {
  "kernelspec": {
   "display_name": "Python 3",
   "language": "python",
   "name": "python3"
  }
 },
 "nbformat": 4,
 "nbformat_minor": 2
}
