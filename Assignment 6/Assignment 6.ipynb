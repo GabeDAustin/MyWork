{
 "cells": [
  {
   "cell_type": "markdown",
   "metadata": {},
   "source": [
    "# <center>CSIS 452 - Applied Machine Learning</center>\n",
    "## Assignment 6 - due: 4/23/2019\n",
    "In this assignment you will develop a Shallow Neural Network (SNN) for handwritten digit recognition using MNIST data set.\n",
    "\n",
    "Enter your name as a comment in the cell below"
   ]
  },
  {
   "cell_type": "code",
   "execution_count": 1,
   "metadata": {},
   "outputs": [],
   "source": [
    "#Gabe Austin"
   ]
  },
  {
   "cell_type": "code",
   "execution_count": 1,
   "metadata": {},
   "outputs": [
    {
     "name": "stderr",
     "output_type": "stream",
     "text": [
      "Using TensorFlow backend.\n"
     ]
    }
   ],
   "source": [
    "import numpy as np\n",
    "import matplotlib\n",
    "import matplotlib.pyplot as plt\n",
    "from sklearn.model_selection import train_test_split\n",
    "from sklearn.metrics import accuracy_score, confusion_matrix, precision_score, recall_score, f1_score\n",
    "\n",
    "import keras\n",
    "from keras import optimizers\n",
    "from keras import losses\n",
    "from keras import metrics\n",
    "from keras.models import Sequential\n",
    "from keras.layers import Dense, Activation\n",
    "from keras import backend as K \n",
    "from keras import backend as K"
   ]
  },
  {
   "cell_type": "markdown",
   "metadata": {},
   "source": [
    "The following function can be used to display a random sample of images along with targets and predicted class."
   ]
  },
  {
   "cell_type": "code",
   "execution_count": 2,
   "metadata": {},
   "outputs": [],
   "source": [
    "def display_a_random_sample_of_images(grid_size, images, targets, predictions=np.array([]), title=\"images\"):\n",
    "    \"\"\" \n",
    "    Displayes a random sample of images with the corresponding targets\n",
    "    \n",
    "    \n",
    "    Argument:\n",
    "        grid_size -- size of subplot will be grid_sizeXgrid_size.\n",
    "        images -- an array of images 32x32  (num_images x 8 x 8)\n",
    "        targets -- an array of class values (num_images x 1) containing class values \n",
    "             between 0 and 9  \n",
    "        predictions -- an array of predicted class values (nume_images X 1) containig predicted\n",
    "             class values between 0 and 9\n",
    "    Returns:\n",
    "        None\n",
    "    \"\"\"\n",
    "\n",
    "    class_names = ['0','1','2','3','4','5','6','7','8','9']\n",
    "    #reshape the images for display\n",
    "    \n",
    "    fig, axes1 = plt.subplots(grid_size,grid_size,figsize=(3,3))\n",
    "    fig.suptitle(title, fontsize=\"x-small\")\n",
    "    plt.subplots_adjust(left=None, bottom=None, right=None, top=None, wspace=0.8, hspace=0.8)\n",
    "    \n",
    "    for j in range(grid_size):\n",
    "        for k in range(grid_size):\n",
    "            i = np.random.choice(range(len(images)))\n",
    "            axes1[j][k].set_axis_off()\n",
    "            if predictions.size > 0:\n",
    "                axes1[j][k].set_title(class_names[targets[i]]+\",\"+class_names[predictions[i]])\n",
    "            else:\n",
    "                axes1[j][k].set_title(class_names[targets[i]])\n",
    "            axes1[j][k].title.set_fontsize(8)\n",
    "            axes1[j][k].imshow(images[i, :,:], cmap = matplotlib.cm.binary, interpolation=\"nearest\")"
   ]
  },
  {
   "cell_type": "markdown",
   "metadata": {},
   "source": [
    "Let's first load the data set from keras datasets.  You will need to look at Keras datasets documentation, learn about the MNIST data set and develop the code below."
   ]
  },
  {
   "cell_type": "code",
   "execution_count": 3,
   "metadata": {},
   "outputs": [],
   "source": [
    "from keras.datasets import mnist\n",
    "def load_digits():\n",
    "    \"\"\"\n",
    "    Load and returns images and targets from the sklearn digits dataset.  \n",
    "    \n",
    "    Arguments: None\n",
    "    \n",
    "    #Returns: \n",
    "        images -- an array of digit images (num_imagesX8x8) \n",
    "               -- images are in normlaized form\n",
    "        target_classes -- an array of class values (num_imagesX1) containing \n",
    "        class values between 0 and 9\n",
    "\n",
    "    \"\"\"    \n",
    "\n",
    "    (X_train, y_train), (X_test, y_test) = mnist.load_data()\n",
    "    \n",
    "    return X_train, y_train, X_test, y_test"
   ]
  },
  {
   "cell_type": "markdown",
   "metadata": {},
   "source": [
    "Now, let's load the images and display a random sample of 9 images in a 3-by-3 grid along with their corresponding target class using the functions developed above."
   ]
  },
  {
   "cell_type": "code",
   "execution_count": 4,
   "metadata": {},
   "outputs": [
    {
     "name": "stdout",
     "output_type": "stream",
     "text": [
      "(60000, 28, 28) (60000,) (10000, 28, 28) (10000,)\n"
     ]
    },
    {
     "data": {
      "image/png": "[encoded data removed]",
      "text/plain": [
       "<Figure size 216x216 with 9 Axes>"
      ]
     },
     "metadata": {
      "needs_background": "light"
     },
     "output_type": "display_data"
    }
   ],
   "source": [
    "X_train, y_train, X_test, y_test = load_digits()\n",
    "print(X_train.shape, y_train.shape, X_test.shape, y_test.shape)\n",
    "np.random.seed(2)\n",
    "display_a_random_sample_of_images(3, X_train, y_train, title=\"images\")\n",
    "plt.show()\n"
   ]
  },
  {
   "cell_type": "markdown",
   "metadata": {},
   "source": [
    "## Expected output:\n",
    "<img src=\"Figure1.png\" width=\"20%\" height=\"20%\" align=\"left\"> <br>\n"
   ]
  },
  {
   "cell_type": "markdown",
   "metadata": {},
   "source": [
    "Next, we will reshape the train images from 60000 x 28 x 28 to 60000 x 784 and test images from 10000 x 28 x 28 to 10000 x 784. This way, each image will be represented with a vector of 784 pixel values. We will also reshape the targets to a rank-2 vector."
   ]
  },
  {
   "cell_type": "code",
   "execution_count": 5,
   "metadata": {},
   "outputs": [
    {
     "name": "stdout",
     "output_type": "stream",
     "text": [
      "(60000, 784) (60000, 1) (10000, 784) (10000, 1)\n"
     ]
    }
   ],
   "source": [
    "X_train_flat = X_train.reshape(X_train.shape[0], 784)\n",
    "y_train_flat = y_train.reshape(y_train.shape[0], 1)\n",
    "X_test_flat = X_test.reshape(X_test.shape[0], 784)\n",
    "y_test_flat = y_test.reshape(y_test.shape[0], 1)\n",
    "\n",
    "print(X_train_flat.shape, y_train_flat.shape, X_test_flat.shape, y_test_flat.shape)"
   ]
  },
  {
   "cell_type": "markdown",
   "metadata": {},
   "source": [
    "## Expected output:\n",
    "(60000, 784) (60000, 1) (10000, 784) (10000, 1)"
   ]
  },
  {
   "cell_type": "markdown",
   "metadata": {},
   "source": [
    "We will now develop and train a three-layer (nx-128(tanh)-64(tanh)-ny(softmax)) Shallow Neural Network and train it using the data we just extracted.\n",
    "\n",
    "Let's OneHot encode the targets first"
   ]
  },
  {
   "cell_type": "code",
   "execution_count": 6,
   "metadata": {},
   "outputs": [
    {
     "name": "stdout",
     "output_type": "stream",
     "text": [
      "(60000, 10)\n",
      "(10000, 10)\n"
     ]
    },
    {
     "name": "stderr",
     "output_type": "stream",
     "text": [
      "C:\\Users\\Gabe\\Anaconda3\\lib\\site-packages\\sklearn\\preprocessing\\_encoders.py:368: FutureWarning: The handling of integer data will change in version 0.22. Currently, the categories are determined based on the range [0, max(values)], while in the future they will be determined based on the unique values.\n",
      "If you want the future behaviour and silence this warning, you can specify \"categories='auto'\".\n",
      "In case you used a LabelEncoder before this OneHotEncoder to convert the categories to integers, then you can now use the OneHotEncoder directly.\n",
      "  warnings.warn(msg, FutureWarning)\n",
      "C:\\Users\\Gabe\\Anaconda3\\lib\\site-packages\\sklearn\\preprocessing\\_encoders.py:368: FutureWarning: The handling of integer data will change in version 0.22. Currently, the categories are determined based on the range [0, max(values)], while in the future they will be determined based on the unique values.\n",
      "If you want the future behaviour and silence this warning, you can specify \"categories='auto'\".\n",
      "In case you used a LabelEncoder before this OneHotEncoder to convert the categories to integers, then you can now use the OneHotEncoder directly.\n",
      "  warnings.warn(msg, FutureWarning)\n"
     ]
    }
   ],
   "source": [
    "from sklearn.preprocessing import OneHotEncoder\n",
    "cat_encoder = OneHotEncoder()\n",
    "y_train_1hot = cat_encoder.fit_transform(y_train_flat)\n",
    "y_test_1hot = cat_encoder.fit_transform(y_test_flat)\n",
    "print(y_train_1hot.shape)\n",
    "print(y_test_1hot.shape)"
   ]
  },
  {
   "cell_type": "markdown",
   "metadata": {},
   "source": [
    "## Expected output:\n",
    "(60000, 10)\n",
    "(10000, 10)"
   ]
  },
  {
   "cell_type": "markdown",
   "metadata": {},
   "source": [
    "Now, let's build the model and train it.  Use validation_split of 0.1 to allow for a 10% validation set.  Keep in mind that this is a multi-class problem, so your loss should be <b>categorical_crossentropy</b> and for metrics use <b>accuracy</b>."
   ]
  },
  {
   "cell_type": "code",
   "execution_count": 7,
   "metadata": {},
   "outputs": [
    {
     "name": "stdout",
     "output_type": "stream",
     "text": [
      "WARNING:tensorflow:From C:\\Users\\Gabe\\Anaconda3\\lib\\site-packages\\tensorflow\\python\\framework\\op_def_library.py:263: colocate_with (from tensorflow.python.framework.ops) is deprecated and will be removed in a future version.\n",
      "Instructions for updating:\n",
      "Colocations handled automatically by placer.\n",
      "WARNING:tensorflow:From C:\\Users\\Gabe\\Anaconda3\\lib\\site-packages\\tensorflow\\python\\ops\\math_ops.py:3066: to_int32 (from tensorflow.python.ops.math_ops) is deprecated and will be removed in a future version.\n",
      "Instructions for updating:\n",
      "Use tf.cast instead.\n",
      "Train on 54000 samples, validate on 6000 samples\n",
      "Epoch 1/5\n",
      "54000/54000 [==============================] - 9s 158us/step - loss: 0.8147 - acc: 0.7621 - val_loss: 0.4992 - val_acc: 0.8558\n",
      "Epoch 2/5\n",
      "54000/54000 [==============================] - 7s 137us/step - loss: 0.5425 - acc: 0.8386 - val_loss: 0.4899 - val_acc: 0.8537\n",
      "Epoch 3/5\n",
      "54000/54000 [==============================] - 8s 139us/step - loss: 0.5125 - acc: 0.8442 - val_loss: 0.4173 - val_acc: 0.8762\n",
      "Epoch 4/5\n",
      "54000/54000 [==============================] - 8s 139us/step - loss: 0.4982 - acc: 0.8453 - val_loss: 0.4492 - val_acc: 0.8595\n",
      "Epoch 5/5\n",
      "54000/54000 [==============================] - 8s 141us/step - loss: 0.4760 - acc: 0.8500 - val_loss: 0.3856 - val_acc: 0.8863\n"
     ]
    }
   ],
   "source": [
    "from tensorflow import set_random_seed\n",
    "\n",
    "num_classes = 10\n",
    "n_hidden1 = 128\n",
    "n_hidden2 = 64\n",
    "n_outputs = num_classes  \n",
    "\n",
    "learning_rate = 0.01\n",
    "num_epochs = 5\n",
    "    \n",
    "model = Sequential()\n",
    "\n",
    "model.add(Dense(units = n_hidden1, activation='tanh', input_dim=784))\n",
    "model.add(Dense(units = n_hidden2, activation='tanh'))\n",
    "model.add(Dense(units = num_classes, activation='softmax'))\n",
    "\n",
    "opt = keras.optimizers.SGD(lr=learning_rate)\n",
    "model.compile(optimizer=opt, loss=losses.categorical_crossentropy, metrics=['accuracy'])\n",
    "\n",
    "history = model.fit(X_train_flat, y_train_1hot, epochs=num_epochs, validation_split=0.1, verbose=1)"
   ]
  },
  {
   "cell_type": "markdown",
   "metadata": {},
   "source": [
    "Let's plot training curves and see how the model is doing on training and validation."
   ]
  },
  {
   "cell_type": "code",
   "execution_count": 8,
   "metadata": {},
   "outputs": [
    {
     "data": {
      "image/png": "[encoded data removed]",
      "text/plain": [
       "<Figure size 432x288 with 1 Axes>"
      ]
     },
     "metadata": {
      "needs_background": "light"
     },
     "output_type": "display_data"
    },
    {
     "data": {
      "image/png": "[encoded data removed]",
      "text/plain": [
       "<Figure size 432x288 with 1 Axes>"
      ]
     },
     "metadata": {
      "needs_background": "light"
     },
     "output_type": "display_data"
    },
    {
     "data": {
      "image/png": "[encoded data removed]",
      "text/plain": [
       "<Figure size 432x288 with 1 Axes>"
      ]
     },
     "metadata": {
      "needs_background": "light"
     },
     "output_type": "display_data"
    },
    {
     "data": {
      "image/png": "[encoded data removed]",
      "text/plain": [
       "<Figure size 432x288 with 1 Axes>"
      ]
     },
     "metadata": {
      "needs_background": "light"
     },
     "output_type": "display_data"
    }
   ],
   "source": [
    "training_fig = plt.figure()\n",
    "training_ax = training_fig.add_subplot(111)\n",
    "training_ax.plot(history.history['loss'])\n",
    "training_ax.plot(history.history['acc'])\n",
    "training_ax.set_title('Training loss and accuracy')\n",
    "training_ax.set_xlabel('epoch')\n",
    "training_ax.legend(['loss', 'accuracy'], loc='upper right')\n",
    "\n",
    "validation_fig = plt.figure()\n",
    "validation_ax = validation_fig.add_subplot(111)\n",
    "validation_ax.plot(history.history['val_loss'])\n",
    "validation_ax.plot(history.history['val_acc'])\n",
    "validation_ax.set_title('Validation loss and accuracy')\n",
    "validation_ax.set_xlabel('epoch')\n",
    "validation_ax.legend(['val_loss', 'val_accuracy'], loc='upper right')\n",
    "\n",
    "tarin_val_loss_fig = plt.figure()\n",
    "tarin_val_loss_ax = tarin_val_loss_fig.add_subplot(111)\n",
    "tarin_val_loss_ax.plot(history.history['loss'])\n",
    "tarin_val_loss_ax.plot(history.history['val_loss'])\n",
    "tarin_val_loss_ax.set_title('Training and Validation loss')\n",
    "tarin_val_loss_ax.set_xlabel('epoch')\n",
    "tarin_val_loss_ax.legend(['loss', 'val_loss'], loc='upper right')\n",
    "\n",
    "tarin_val_loss_fig = plt.figure()\n",
    "tarin_val_loss_ax = tarin_val_loss_fig.add_subplot(111)\n",
    "tarin_val_loss_ax.plot(history.history['acc'])\n",
    "tarin_val_loss_ax.plot(history.history['val_acc'])\n",
    "tarin_val_loss_ax.set_title('Training and Validation accuracy')\n",
    "tarin_val_loss_ax.set_xlabel('epoch')\n",
    "tarin_val_loss_ax.legend(['accuracy', 'val_accuracy'], loc='upper right')\n",
    "\n",
    "\n",
    "plt.show()"
   ]
  },
  {
   "cell_type": "markdown",
   "metadata": {},
   "source": [
    "## Expected output:\n",
    "<p>Your plots should be similar to the ones below, but they won't be exact match</P>\n",
    "<p><img src=\"Figure2.png\" width=\"40%\" height=\"40%\" align=\"left\"> <br></p>\n"
   ]
  },
  {
   "cell_type": "markdown",
   "metadata": {},
   "source": [
    "Now let's evaluate the model on the training and test images.  First, we will need to get the h values.  Keep in mind that the we need to inverse transform the 1hot encoded labels to the original labels."
   ]
  },
  {
   "cell_type": "code",
   "execution_count": 9,
   "metadata": {},
   "outputs": [],
   "source": [
    "p_train_1hot = model.predict(X_train_flat)\n",
    "h_train_1hot = np.array([elm for elm in p_train_1hot>0.5], dtype=int) #Convert probabilities to class labels)\n",
    "h_train =  np.squeeze(cat_encoder.inverse_transform(h_train_1hot)) #Retrive original class labels)\n",
    "\n",
    "p_train_1hot = model.predict(X_test_flat)\n",
    "h_test_1hot = np.array([elm for elm in p_train_1hot>0.5], dtype=int) \n",
    "h_test =  np.squeeze(cat_encoder.inverse_transform(h_test_1hot)) "
   ]
  },
  {
   "cell_type": "markdown",
   "metadata": {},
   "source": [
    "Next, we will measure the model performance on the training set and test set using Confusion Matrix, Average Accuracy, Average Precision, Average Recall and Average F1-Score. "
   ]
  },
  {
   "cell_type": "code",
   "execution_count": 10,
   "metadata": {},
   "outputs": [
    {
     "name": "stdout",
     "output_type": "stream",
     "text": [
      "Training Performance\n",
      "Average Train Confusion Matrix:\n",
      " [[5732    1   15   14    5   67   52    8   20    9]\n",
      " [ 152 6400   23   13    3    7   15   11  108   10]\n",
      " [ 672   43 4584   74   60    5  115   95  274   36]\n",
      " [ 863   16   89 4535    1  267   18   53  226   63]\n",
      " [ 520   15   26    4 4480    6   64    3   34  690]\n",
      " [ 829   18   10  100   25 4122   74   28  157   58]\n",
      " [ 341   21   41    1   80   46 5343    1   44    0]\n",
      " [ 330   23   27    8   39   13    1 5525   18  281]\n",
      " [ 724   70   63  162   12  176   79   15 4471   79]\n",
      " [ 446   25   17   47  216   35    5  123  113 4922]]\n",
      "Average Train Accuracy: 83.52%\n",
      "Average Train Precision 86.43%\n",
      "Average Train Recall: 83.52%\n",
      "Average Train F1: 84.09%\n",
      "Training Performance\n",
      "Average Test Confusion Matrix:\n",
      " [[ 945    1    6    4    0    6   11    1    2    4]\n",
      " [  16 1095    1    3    0    1    2    0   16    1]\n",
      " [ 120   10  793    9    7    1   23   13   50    6]\n",
      " [ 135    1   16  758    0   43    3   10   40    4]\n",
      " [  84    1    1    1  747    1   21    2    6  118]\n",
      " [ 132    0    3   17    1  695    7    5   25    7]\n",
      " [  57    2    5    1   21    5  859    0    8    0]\n",
      " [  43    8    6    2    6    0    0  905    6   52]\n",
      " [ 122    3   12   19    6   26   19    5  753    9]\n",
      " [  78    3    1    9   37    6    3   19   11  842]]\n",
      "Average Test Accuracy: 83.92%\n",
      "Average Test Precision 86.72%\n",
      "Average Test Recall 83.92%\n",
      "Average Test F1: 84.46%\n"
     ]
    }
   ],
   "source": [
    "cf_train = confusion_matrix(y_train, h_train)\n",
    "ca_train = np.mean(accuracy_score(np.squeeze(y_train), np.squeeze(h_train)))\n",
    "ps_train = np.mean(precision_score(y_train, h_train, average='weighted')) \n",
    "rs_train = np.mean(recall_score(y_train, h_train, average='weighted'))\n",
    "f1_train = np.mean(f1_score(y_train, h_train, average='weighted'))\n",
    "print(\"Training Performance\")\n",
    "print(\"Average Train Confusion Matrix:\\n\", cf_train)\n",
    "print(\"Average Train Accuracy: {0:0.2%}\".format(ca_train))\n",
    "print(\"Average Train Precision {0:0.2%}\".format(ps_train))\n",
    "print(\"Average Train Recall: {0:0.2%}\".format(rs_train))\n",
    "print(\"Average Train F1: {0:0.2%}\".format(f1_train))\n",
    "\n",
    "cf_test = confusion_matrix(y_test, h_test)\n",
    "ca_test = accuracy_score(np.squeeze(y_test), np.squeeze(h_test))\n",
    "ps_test = precision_score(y_test, h_test, average='weighted')\n",
    "rs_test = recall_score(y_test, h_test, average='weighted')\n",
    "f1_test = f1_score(y_test, h_test, average='weighted')\n",
    "print(\"Training Performance\")\n",
    "print(\"Average Test Confusion Matrix:\\n\", cf_test)\n",
    "print(\"Average Test Accuracy: {0:0.2%}\".format(ca_test))\n",
    "print(\"Average Test Precision {0:0.2%}\".format(ps_test))\n",
    "print(\"Average Test Recall {0:0.2%}\".format(rs_test))\n",
    "print(\"Average Test F1: {0:0.2%}\".format(f1_test))"
   ]
  },
  {
   "cell_type": "markdown",
   "metadata": {},
   "source": [
    "## Expected output:\n",
    "<p> You performance should be close to the following, it won't be exact.</p>\n",
    "<p><img src=\"Figure4.png\" width=\"40%\" height=\"40%\" align=\"left\"> <br></p>\n"
   ]
  },
  {
   "cell_type": "markdown",
   "metadata": {},
   "source": [
    "Finally, let's examine a set of images and compare their predicted and actual labels."
   ]
  },
  {
   "cell_type": "code",
   "execution_count": 11,
   "metadata": {
    "scrolled": true
   },
   "outputs": [
    {
     "data": {
      "image/png": "[encoded data removed]",
      "text/plain": [
       "<Figure size 216x216 with 25 Axes>"
      ]
     },
     "metadata": {
      "needs_background": "light"
     },
     "output_type": "display_data"
    }
   ],
   "source": [
    "np.random.seed(5)\n",
    "display_a_random_sample_of_images(5, X_test, y_test, title=\"images\", predictions = h_test.astype(int))"
   ]
  },
  {
   "cell_type": "markdown",
   "metadata": {},
   "source": [
    "## Expected output:\n",
    "<p> You output should be close to the following, but it won't be exact.</p>\n",
    "<p><img src=\"Figure5.png\" width=\"20%\" height=\"20%\" align=\"left\"> <br></p>"
   ]
  },
  {
   "cell_type": "code",
   "execution_count": null,
   "metadata": {},
   "outputs": [],
   "source": []
  }
 ],
 "metadata": {
  "kernelspec": {
   "display_name": "Python 3",
   "language": "python",
   "name": "python3"
  },
  "language_info": {
   "codemirror_mode": {
    "name": "ipython",
    "version": 3
   },
   "file_extension": ".py",
   "mimetype": "text/x-python",
   "name": "python",
   "nbconvert_exporter": "python",
   "pygments_lexer": "ipython3",
   "version": "3.7.1"
  }
 },
 "nbformat": 4,
 "nbformat_minor": 2
}
